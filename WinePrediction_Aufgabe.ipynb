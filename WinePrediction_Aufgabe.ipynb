{
 "cells": [
  {
   "cell_type": "markdown",
   "metadata": {
    "id": "uBHsHWmumNKn"
   },
   "source": [
    "Importing the Dependencies"
   ]
  },
  {
   "cell_type": "code",
   "execution_count": 2,
   "metadata": {
    "id": "6mXdf5RGkzlk"
   },
   "outputs": [],
   "source": [
    "import numpy as np\n",
    "import pandas as pd\n",
    "import matplotlib.pyplot as plt\n",
    "import seaborn as sns"
   ]
  },
  {
   "cell_type": "markdown",
   "metadata": {},
   "source": [
    "## Problem Statement\n",
    "The wine company wants to create new wine brand. The company wants to be able to infer the quality of the wine based on the several chemical components in wine. Therefore you should build the ML model which is capable to recongnise the quality of the wine based on the chemical properties. See wine data. "
   ]
  },
  {
   "cell_type": "markdown",
   "metadata": {
    "id": "bURpf8bkm7-M"
   },
   "source": [
    "## Data Import\n",
    "Import the winedate.csv"
   ]
  },
  {
   "cell_type": "markdown",
   "metadata": {},
   "source": [
    "## Data Analysis\n",
    "Initial decision which Models/Algorithms arr going to br used as potential candidates for the final model. Elaborate why these models"
   ]
  },
  {
   "cell_type": "markdown",
   "metadata": {},
   "source": [
    "## Data Preprocessing\n",
    "Here you should prepare data accordingly"
   ]
  },
  {
   "cell_type": "markdown",
   "metadata": {},
   "source": [
    "## Training and build Models\n",
    "These models will be used for the evaluation"
   ]
  },
  {
   "cell_type": "markdown",
   "metadata": {},
   "source": [
    "## Evaluation and selection of the model\n",
    "Here multiple models should be evaluated and finaly selected. \n",
    "\n",
    "### Accuracy score\n",
    "\n",
    "### Precision\n",
    "\n",
    "### Recall\n",
    "\n",
    "### F1 Score"
   ]
  },
  {
   "cell_type": "markdown",
   "metadata": {},
   "source": [
    "## Conclusion and reflection\n",
    "Please reflect on the project and provide the conclusion"
   ]
  },
  {
   "cell_type": "markdown",
   "metadata": {},
   "source": [
    "## Test the model with some data\n",
    "Create your own new data representing wine and test the model"
   ]
  }
 ],
 "metadata": {
  "colab": {
   "provenance": []
  },
  "kernelspec": {
   "display_name": "Python 3",
   "language": "python",
   "name": "python3"
  },
  "language_info": {
   "codemirror_mode": {
    "name": "ipython",
    "version": 3
   },
   "file_extension": ".py",
   "mimetype": "text/x-python",
   "name": "python",
   "nbconvert_exporter": "python",
   "pygments_lexer": "ipython3",
   "version": "3.12.3"
  }
 },
 "nbformat": 4,
 "nbformat_minor": 4
}
